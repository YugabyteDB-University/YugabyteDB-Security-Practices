{
 "cells": [
  {
   "cell_type": "markdown",
   "metadata": {},
   "source": [
    "# Row Level Security\n",
    "\n",
    "In addition to database access permissions available through ROLE and GRANT privilege system, YugabyteDB provides a more granular level security where tables can have row security policies that restrict rows users can access.\n",
    "\n",
    "Row-level security (RLS) restricts rows that can be returned by normal queries or inserted, updated, or deleted by DML commands. RLS policies can be created specific to a DML command or with ALL commands. They can also be used to create policies on a particular role or multiple roles.\n",
    "\n",
    "To start, connect to your yugabyteDB instance\n"
   ]
  },
  {
   "cell_type": "code",
   "execution_count": null,
   "metadata": {},
   "outputs": [],
   "source": [
    "./ysqlsh"
   ]
  },
  {
   "cell_type": "markdown",
   "metadata": {},
   "source": [
    "To demonstrate row level security, you will create a test table with some data. The test table will be a table of employee data."
   ]
  },
  {
   "cell_type": "code",
   "execution_count": null,
   "metadata": {
    "vscode": {
     "languageId": "sql"
    }
   },
   "outputs": [],
   "source": [
    "create table employees ( empno int, ename text, address text, salary int,\n",
    "                         account_number text );\n",
    "\n",
    "insert into employees values (1, 'joe', '56 grove st',  20000, 'AC-22001' );\n",
    "insert into employees values (2, 'mike', '129 81 st',  80000, 'AC-48901' );\n",
    "insert into employees values (3, 'julia', '1 finite loop',  40000, 'AC-77051');"
   ]
  },
  {
   "cell_type": "markdown",
   "metadata": {},
   "source": [
    "Next, create three users, one for each of the employees added to the employees table."
   ]
  },
  {
   "cell_type": "code",
   "execution_count": null,
   "metadata": {
    "vscode": {
     "languageId": "sql"
    }
   },
   "outputs": [],
   "source": [
    "create role joe login password 'yourpasswordhere';\n",
    "grant select on employees to joe;\n",
    "\n",
    "create role mike login password 'yourpasswordhere';\n",
    "grant select on employees to mike;\n",
    "\n",
    "create role julia login password 'yourpasswordhere';\n",
    "grant select on employees to julia;"
   ]
  },
  {
   "cell_type": "markdown",
   "metadata": {},
   "source": [
    "You are going to create a row level security policy that limits what each of the roles can see in the table. To achieve this, you will use a create policy query."
   ]
  },
  {
   "cell_type": "code",
   "execution_count": null,
   "metadata": {
    "vscode": {
     "languageId": "sql"
    }
   },
   "outputs": [],
   "source": [
    "create policy emp_rls_policy on employees for all to public using (\n",
    "           ename=current_user);"
   ]
  },
  {
   "cell_type": "markdown",
   "metadata": {},
   "source": [
    "The name of the created policy is emp_rls_policy. This policy is being applied to the employees table for all of the DDL commands. The public keyword indicates that this rule applies to all roles in the database. The policy will automatically filter the data so that the data shown is only the rows where the ename field matches the name of the current role.\n",
    "\n",
    "To verify that this works correctly, connect to the database as one of the created roles and attempt to query the employees table."
   ]
  },
  {
   "cell_type": "code",
   "execution_count": null,
   "metadata": {
    "vscode": {
     "languageId": "sql"
    }
   },
   "outputs": [],
   "source": [
    "\\c testdb joe;\n",
    "select * from employees;"
   ]
  }
 ],
 "metadata": {
  "kernelspec": {
   "display_name": "Python 3.8.9 64-bit",
   "language": "python",
   "name": "python3"
  },
  "language_info": {
   "name": "python",
   "version": "3.8.9"
  },
  "orig_nbformat": 4,
  "vscode": {
   "interpreter": {
    "hash": "31f2aee4e71d21fbe5cf8b01ff0e069b9275f58929596ceb00d14d90e3e16cd6"
   }
  }
 },
 "nbformat": 4,
 "nbformat_minor": 2
}
